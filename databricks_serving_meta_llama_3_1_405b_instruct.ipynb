{
  "nbformat": 4,
  "nbformat_minor": 0,
  "metadata": {
    "colab": {
      "private_outputs": true,
      "provenance": [],
      "authorship_tag": "ABX9TyM0CflcIfUWeNA5sdS9Hsmp",
      "include_colab_link": true
    },
    "kernelspec": {
      "name": "python3",
      "display_name": "Python 3"
    },
    "language_info": {
      "name": "python"
    }
  },
  "cells": [
    {
      "cell_type": "markdown",
      "metadata": {
        "id": "view-in-github",
        "colab_type": "text"
      },
      "source": [
        "<a href=\"https://colab.research.google.com/github/MagaliDrumare/Databricks-AI-Playground-DBRX/blob/main/databricks_serving_meta_llama_3_1_405b_instruct.ipynb\" target=\"_parent\"><img src=\"https://colab.research.google.com/assets/colab-badge.svg\" alt=\"Open In Colab\"/></a>"
      ]
    },
    {
      "cell_type": "code",
      "source": [
        "pip install openai"
      ],
      "metadata": {
        "id": "AJjsc8tJfbrF"
      },
      "execution_count": null,
      "outputs": []
    },
    {
      "cell_type": "code",
      "execution_count": null,
      "metadata": {
        "id": "goe4F3vwfZPc"
      },
      "outputs": [],
      "source": [
        "from openai import OpenAI\n",
        "import os\n",
        "\n",
        "# How to get your Databricks token: https://docs.databricks.com/en/dev-tools/auth/pat.html\n",
        "DATABRICKS_TOKEN = 'XXXXXXXXXXXXXXXXXXXXX'\n",
        "# Alternatively in a Databricks notebook you can use this:\n",
        "# DATABRICKS_TOKEN = dbutils.notebook.entry_point.getDbutils().notebook().getContext().apiToken().get()\n",
        "\n",
        "client = OpenAI(\n",
        "  api_key=DATABRICKS_TOKEN,\n",
        "  base_url=\"https://dbc-2f7a3027-ed2d.cloud.databricks.com/serving-endpoints\"\n",
        "\n",
        ")\n",
        "\n",
        "\n",
        "chat_completion = client.chat.completions.create(\n",
        "  messages=[\n",
        "  {\n",
        "    \"role\": \"system\",\n",
        "    \"content\": \"You are an AI assistant\"\n",
        "  },\n",
        "  {\n",
        "    \"role\": \"user\",\n",
        "    \"content\": \"Tell me about Large Language Models\"\n",
        "  }\n",
        "  ],\n",
        "  model=\"databricks-meta-llama-3-1-405b-instruct\",\n",
        "  max_tokens=256\n",
        ")\n",
        "\n",
        "print(chat_completion.choices[0].message.content)"
      ]
    }
  ]
}